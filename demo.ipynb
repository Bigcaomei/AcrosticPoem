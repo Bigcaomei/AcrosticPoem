{
 "cells": [
  {
   "cell_type": "code",
   "execution_count": 11,
   "metadata": {
    "collapsed": false
   },
   "outputs": [],
   "source": [
    "from AcrosticPoem import PoemGen \n",
    "p = PoemGen()\n"
   ]
  },
  {
   "cell_type": "code",
   "execution_count": 13,
   "metadata": {
    "collapsed": false
   },
   "outputs": [
    {
     "name": "stdout",
     "output_type": "stream",
     "text": [
      "花藏千萬人歸心\n",
      "渡頭一丈人不然\n",
      "吟詩客從東西山\n",
      "破產七十五色寒\n",
      "先生何所從此地\n",
      "農器青松柏梁山\n"
     ]
    }
   ],
   "source": [
    "s=\"藏頭詩產生器 -l 7 -p 2\".split()\n",
    "print p.main(s,False)"
   ]
  },
  {
   "cell_type": "code",
   "execution_count": 14,
   "metadata": {
    "collapsed": false
   },
   "outputs": [
    {
     "name": "stdout",
     "output_type": "stream",
     "text": [
      "藏經過春風騷雅\n",
      "山頭人無奈何曾\n",
      "可見詩客思君心\n",
      "吟哦擴產莓苔封\n",
      "清風塵中生在人\n",
      "幾千金刀圭器蒙\n"
     ]
    }
   ],
   "source": [
    "s=\"藏頭詩產生器 -l 7 -p lr\".split()\n",
    "print p.main(s,False)"
   ]
  },
  {
   "cell_type": "code",
   "execution_count": null,
   "metadata": {
    "collapsed": true
   },
   "outputs": [],
   "source": []
  }
 ],
 "metadata": {
  "kernelspec": {
   "display_name": "Python 2",
   "language": "python",
   "name": "python2"
  },
  "language_info": {
   "codemirror_mode": {
    "name": "ipython",
    "version": 2
   },
   "file_extension": ".py",
   "mimetype": "text/x-python",
   "name": "python",
   "nbconvert_exporter": "python",
   "pygments_lexer": "ipython2",
   "version": "2.7.5"
  }
 },
 "nbformat": 4,
 "nbformat_minor": 0
}
